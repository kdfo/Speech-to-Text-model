{
 "cells": [
  {
   "cell_type": "code",
   "execution_count": 3,
   "id": "977798cf-58ea-4ec1-948c-d36c3745b3d7",
   "metadata": {},
   "outputs": [],
   "source": [
    "import whisper\n",
    "import streamlit as st\n",
    "from pydub import AudioSegment\n",
    "import soundfile as sf\n",
    "import tempfile\n",
    "import os\n"
   ]
  },
  {
   "cell_type": "code",
   "execution_count": 4,
   "id": "9feb5d0c-24b9-4201-82d1-6372d159099e",
   "metadata": {},
   "outputs": [
    {
     "name": "stderr",
     "output_type": "stream",
     "text": [
      "C:\\Users\\limis\\Downloads\\anaconda\\envs\\BrainAI\\Lib\\site-packages\\whisper\\__init__.py:150: FutureWarning: You are using `torch.load` with `weights_only=False` (the current default value), which uses the default pickle module implicitly. It is possible to construct malicious pickle data which will execute arbitrary code during unpickling (See https://github.com/pytorch/pytorch/blob/main/SECURITY.md#untrusted-models for more details). In a future release, the default value for `weights_only` will be flipped to `True`. This limits the functions that could be executed during unpickling. Arbitrary objects will no longer be allowed to be loaded via this mode unless they are explicitly allowlisted by the user via `torch.serialization.add_safe_globals`. We recommend you start setting `weights_only=True` for any use case where you don't have full control of the loaded file. Please open an issue on GitHub for any issues related to this experimental feature.\n",
      "  checkpoint = torch.load(fp, map_location=device)\n"
     ]
    }
   ],
   "source": [
    "# Load Whisper model\n",
    "model = whisper.load_model(\"base\")  # You can use 'tiny', 'small', 'medium', or 'large' as per your requirements\n"
   ]
  },
  {
   "cell_type": "code",
   "execution_count": 5,
   "id": "afd51a1d-a914-4417-993d-e26a2416e20b",
   "metadata": {},
   "outputs": [],
   "source": [
    "from pydub import AudioSegment\n",
    "import os\n",
    "\n",
    "# Set the path to FFmpeg manually\n",
    "os.environ[\"PATH\"] += os.pathsep + \"C:\\ffmpeg-master-latest-win64-gpl\\ffmpeg-master-latest-win64-gpl\\bin\"  # Update with your actual path to ffmpeg\\bin\n",
    "\n",
    "# Now pydub should be able to find FFmpeg\n"
   ]
  },
  {
   "cell_type": "code",
   "execution_count": 6,
   "id": "99afb9e5-513d-4699-bf31-32b07d6206c6",
   "metadata": {},
   "outputs": [],
   "source": [
    "def transcribe_audio(file_path):\n",
    "    # Load and preprocess audio\n",
    "    audio = whisper.load_audio(file_path)\n",
    "    audio = whisper.pad_or_trim(audio)\n",
    "    \n",
    "    # Transcribe the audio\n",
    "    result = model.transcribe(audio)\n",
    "    return result['text']\n"
   ]
  },
  {
   "cell_type": "code",
   "execution_count": null,
   "id": "38e87bcc-7dc1-48ec-ab8c-31ab97039099",
   "metadata": {},
   "outputs": [],
   "source": []
  }
 ],
 "metadata": {
  "kernelspec": {
   "display_name": "Python 3 (ipykernel)",
   "language": "python",
   "name": "python3"
  },
  "language_info": {
   "codemirror_mode": {
    "name": "ipython",
    "version": 3
   },
   "file_extension": ".py",
   "mimetype": "text/x-python",
   "name": "python",
   "nbconvert_exporter": "python",
   "pygments_lexer": "ipython3",
   "version": "3.11.8"
  }
 },
 "nbformat": 4,
 "nbformat_minor": 5
}
